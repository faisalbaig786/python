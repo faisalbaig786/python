{
 "cells": [
  {
   "cell_type": "code",
   "execution_count": 1,
   "metadata": {
    "collapsed": true
   },
   "outputs": [],
   "source": [
    "r1 = [\"1\",\"2\",\"3\"]\n",
    "r2 = [\"4\",\"5\",\"6\"]\n",
    "r3 = [\"7\",\"8\",\"9\"]"
   ]
  },
  {
   "cell_type": "code",
   "execution_count": 37,
   "metadata": {},
   "outputs": [],
   "source": [
    "def game(player, pos):\n",
    "    global r1\n",
    "    global r2\n",
    "    global r3\n",
    "    global t\n",
    "    if player == \"new\" and pos == 0:\n",
    "        r1 = [\"1\",\"2\",\"3\"]\n",
    "        r2 = [\"4\",\"5\",\"6\"]\n",
    "        r3 = [\"7\",\"8\",\"9\"]\n",
    "        t = 0\n",
    "        print(\"To move, usage: game(\\\"x\\\" or \\\"o\\\", position number)\")\n",
    "    elif player == \"no\" and pos == 0:\n",
    "        pass\n",
    "    elif player == \"x\" or player == \"X\" and pos in {1,2,3,4,5,6,7,8,9}:\n",
    "        if pos in {1,2,3}:\n",
    "            r1.pop(pos - 1)\n",
    "            r1.insert(pos - 1,\"X\")\n",
    "            t += 1\n",
    "        elif pos in {4,5,6}:\n",
    "            r2.pop(pos - 4)\n",
    "            r2.insert(pos - 4,\"X\")\n",
    "            t += 1\n",
    "        elif pos in {7,8,9}:\n",
    "            r3.pop(pos - 7)\n",
    "            r3.insert(pos - 7,\"X\")\n",
    "            t += 1\n",
    "    elif player == \"o\" or player == \"O\" and pos in {1,2,3,4,5,6,7,8,9}: \n",
    "        if pos in {1,2,3}:\n",
    "            r1.pop(pos - 1)\n",
    "            r1.insert(pos - 1,\"O\")\n",
    "            t += 1\n",
    "        elif pos in {4,5,6}:\n",
    "            r2.pop(pos - 4)\n",
    "            r2.insert(pos - 4,\"O\")\n",
    "            t += 1\n",
    "        elif pos in {7,8,9}:\n",
    "            r3.pop(pos - 7)\n",
    "            r3.insert(pos - 7,\"O\")\n",
    "            t += 1\n",
    "    else:\n",
    "        print(\"Invalid input! To move, usage: game(\\\"x\\\" or \\\"o\\\", position number)\")\n",
    "        pass\n",
    "        \n",
    "    print(r1)\n",
    "    print(r2)\n",
    "    print(r3)\n",
    "\n",
    "    if r1[0] == r1[1] == r1[2] == \"X\":\n",
    "        print(\"X wins!\")\n",
    "        print(\"Would you like to play again? Enter: game(\\\"new\\\" or \\\"no\\\", 0)\")\n",
    "    elif r2[0] == r2[1] == r2[2] == \"X\":\n",
    "        print(\"X wins!\")\n",
    "        print(\"Would you like to play again? Enter: game(\\\"new\\\" or \\\"no\\\", 0)\")\n",
    "    elif r3[0] == r3[1] == r3[2] == \"X\":\n",
    "        print(\"X wins!\")\n",
    "        print(\"Would you like to play again? Enter: game(\\\"new\\\" or \\\"no\\\", 0)\")\n",
    "    elif r1[0] == r2[0] == r3[0] == \"X\":\n",
    "        print(\"X wins!\")\n",
    "        print(\"Would you like to play again? Enter: game(\\\"new\\\" or \\\"no\\\", 0)\")\n",
    "    elif r1[1] == r2[1] == r3[1] == \"X\":\n",
    "        print(\"X wins!\")\n",
    "        print(\"Would you like to play again? Enter: game(\\\"new\\\" or \\\"no\\\", 0)\")\n",
    "    elif r1[2] == r2[2] == r3[2] == \"X\":\n",
    "        print(\"X wins!\")\n",
    "        print(\"Would you like to play again? Enter: game(\\\"new\\\" or \\\"no\\\", 0)\")\n",
    "    elif r1[0] == r2[1] == r3[2] == \"X\":\n",
    "        print(\"X wins!\")\n",
    "        print(\"Would you like to play again? Enter: game(\\\"new\\\" or \\\"no\\\", 0)\")\n",
    "    elif r1[2] == r2[1] == r3[0] == \"X\":\n",
    "        print(\"X wins!\")\n",
    "        print(\"Would you like to play again? Enter: game(\\\"new\\\" or \\\"no\\\", 0)\")\n",
    "    elif r1[0] == r1[1] == r1[2] == \"O\":\n",
    "        print(\"O wins!\")\n",
    "        print(\"Would you like to play again? Enter: game(\\\"new\\\" or \\\"no\\\", 0)\")\n",
    "    elif r2[0] == r2[1] == r2[2] == \"O\":\n",
    "        print(\"O wins!\")\n",
    "        print(\"Would you like to play again? Enter: game(\\\"new\\\" or \\\"no\\\", 0)\")\n",
    "    elif r3[0] == r3[1] == r3[2] == \"O\":\n",
    "        print(\"O wins!\")\n",
    "        print(\"Would you like to play again? Enter: game(\\\"new\\\" or \\\"no\\\", 0)\")\n",
    "    elif r1[0] == r2[0] == r3[0] == \"O\":\n",
    "        print(\"O wins!\")\n",
    "        print(\"Would you like to play again? Enter: game(\\\"new\\\" or \\\"no\\\", 0)\")\n",
    "    elif r1[1] == r2[1] == r3[1] == \"O\":\n",
    "        print(\"O wins!\")\n",
    "        print(\"Would you like to play again? Enter: game(\\\"new\\\" or \\\"no\\\", 0)\")\n",
    "    elif r1[2] == r2[2] == r3[2] == \"O\":\n",
    "        print(\"O wins!\")\n",
    "        print(\"Would you like to play again? Enter: game(\\\"new\\\" or \\\"no\\\", 0)\")\n",
    "    elif r1[0] == r2[1] == r3[2] == \"O\":\n",
    "        print(\"O wins!\")\n",
    "        print(\"Would you like to play again? Enter: game(\\\"new\\\" or \\\"no\\\", 0)\")\n",
    "    elif r1[2] == r2[1] == r3[0] == \"O\":\n",
    "        print(\"O wins!\")\n",
    "        print(\"Would you like to play again? Enter: game(\\\"new\\\" or \\\"no\\\", 0)\")\n",
    "    elif t >= 9:\n",
    "            print(\"Tie game!\")\n",
    "            print(\"Would you like to play again? Enter: game(\\\"new\\\" or \\\"no\\\", 0)\")\n",
    "    else:\n",
    "        pass"
   ]
  },
  {
   "cell_type": "code",
   "execution_count": 38,
   "metadata": {},
   "outputs": [
    {
     "name": "stdout",
     "output_type": "stream",
     "text": [
      "['X', '2', 'O']\n",
      "['4', '5', '6']\n",
      "['7', '8', '9']\n"
     ]
    }
   ],
   "source": [
    "game(\"O\", 3)"
   ]
  },
  {
   "cell_type": "code",
   "execution_count": null,
   "metadata": {
    "collapsed": true
   },
   "outputs": [],
   "source": []
  }
 ],
 "metadata": {
  "kernelspec": {
   "display_name": "Python 3",
   "language": "python",
   "name": "python3"
  },
  "language_info": {
   "codemirror_mode": {
    "name": "ipython",
    "version": 3
   },
   "file_extension": ".py",
   "mimetype": "text/x-python",
   "name": "python",
   "nbconvert_exporter": "python",
   "pygments_lexer": "ipython3",
   "version": "3.6.3"
  }
 },
 "nbformat": 4,
 "nbformat_minor": 2
}
